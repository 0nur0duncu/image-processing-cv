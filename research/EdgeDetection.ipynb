{
 "cells": [
  {
   "cell_type": "markdown",
   "metadata": {},
   "source": [
    "# Edge Detection (Kenar algılama)\n",
    "\n",
    "https://abdulsamet-ileri.medium.com/g%C3%B6r%C3%BCnt%C3%BC-filtrelerini-uygulama-ve-kenarlar%C4%B1-alg%C4%B1lama-21d42f194db4"
   ]
  },
  {
   "cell_type": "markdown",
   "metadata": {},
   "source": [
    "* Kenar algılama, bir resimdeki nesnelerin sınırlarını bulmak için kullanılan bir tekniktir ve çıktı olarak binary image verir. Genellikle, bu kenarları belirtmek için siyah bir arka plan üzerinde beyaz çizgiler çizeriz. \n",
    "* Kenar algılamayı high pass filtering (yüksek geçişli filtreleme) işlemi olarak düşünebiliriz. Yüksek geçiş filtresi, yüksek frekanslı içeriğin geçmesine ve düşük frekanslı içeriğin bloklanması sağlar.\n",
    "* Kenarlar yüksek frekanslı içeriklerdir. Kenar tespitinde, bu kenarları korumak ve diğer her şeyi atmak, çıkarmak istiyoruz. Bu nedenle, yüksek geçişli bir filtrenin eşdeğeri olan bir kernel oluşturmalıyız.\n",
    "\n",
    "* Sobel filtresi olarak bilinen basit edge detection filtresi ile başlıyalım. Kenarlar hem yatay hem de dikey yönlerde ortaya çıkabileceğinden, Sobel filtresi aşağıdaki iki kernelden oluşur:\n",
    "\n",
    "![](https://miro.medium.com/v2/resize:fit:640/format:webp/1*6HEJm3x0k_NbeLM9MwW--Q.png)\n",
    "\n",
    "* Soldaki kernel yatay kenarları algılar ve sağdaki kernel ise dikey kenarları. OpenCV, Sobel filtresini belirli bir görüntüye doğrudan uygulamak için bir fonksiyon(Sobel) sunar. Kenarları tespit etmek için Sobel filtrelerini kullanmanın kodu şöyledir:"
   ]
  },
  {
   "cell_type": "code",
   "execution_count": 2,
   "metadata": {},
   "outputs": [],
   "source": [
    "import cv2\n",
    "import matplotlib.pyplot as plt\n",
    "import numpy as np"
   ]
  },
  {
   "cell_type": "code",
   "execution_count": 16,
   "metadata": {},
   "outputs": [],
   "source": [
    "bgr = cv2.imread('./images/circle.jpg', cv2.IMREAD_GRAYSCALE)"
   ]
  },
  {
   "cell_type": "code",
   "execution_count": 17,
   "metadata": {},
   "outputs": [],
   "source": [
    "\n",
    "sobel_horizontal = cv2.Sobel(bgr, cv2.CV_64F, 1, 0, ksize=5)\n",
    "sobel_vertical = cv2.Sobel(bgr, cv2.CV_64F, 0, 1, ksize=5)"
   ]
  },
  {
   "cell_type": "code",
   "execution_count": 18,
   "metadata": {},
   "outputs": [],
   "source": [
    "cv2.imshow('',sobel_horizontal)\n",
    "cv2.waitKey(0)\n",
    "cv2.destroyAllWindows()\n",
    "cv2.imshow('',sobel_vertical)\n",
    "cv2.waitKey(0)\n",
    "cv2.destroyAllWindows()"
   ]
  },
  {
   "cell_type": "markdown",
   "metadata": {},
   "source": [
    "* Parametre olarak verilen cv2.CV_64F image matrixdeki dışta kalan piksellerin nasıl handle edileceği ile alakalıdır. \n",
    "* Sobel fonksiyonun 3. ve 4. parametresi dx ve dy’dir. Eğer dx’e 1, dy’ye 0 verirsek bu horizontal (yatay) kenarları algılayacak. dx’e 0, dy’ye 1 verirsekte vertical (dikey) kenarları algılayacak."
   ]
  },
  {
   "cell_type": "markdown",
   "metadata": {},
   "source": [
    "* Bu iş için aynı zamanda laplacian filter ve canny filter de kullanabiliriz.\n",
    "\n",
    "* laplacian\n",
    "\n",
    "![](https://miro.medium.com/v2/resize:fit:828/format:webp/1*gmxiEuZQ6Wy3mQoHW1Mp1Q.png)\n",
    "\n",
    "* canny\n",
    "\n",
    "![](https://miro.medium.com/v2/resize:fit:1400/format:webp/1*peXg2MFRCh0Fx9EvBpC0bw.png)"
   ]
  },
  {
   "cell_type": "code",
   "execution_count": 19,
   "metadata": {},
   "outputs": [
    {
     "data": {
      "text/plain": [
       "-1"
      ]
     },
     "execution_count": 19,
     "metadata": {},
     "output_type": "execute_result"
    }
   ],
   "source": [
    "laplacian = cv2.Laplacian(bgr, cv2.CV_64F)\n",
    "cv2.imshow('',laplacian)\n",
    "cv2.waitKey(0)\n",
    "cv2.destroyAllWindows()"
   ]
  },
  {
   "cell_type": "code",
   "execution_count": 27,
   "metadata": {},
   "outputs": [],
   "source": [
    "canny = cv2.Canny(bgr, 0, 20)\n",
    "cv2.imshow('',canny)\n",
    "cv2.waitKey(0)\n",
    "cv2.destroyAllWindows()"
   ]
  },
  {
   "cell_type": "markdown",
   "metadata": {},
   "source": [
    "* Gördüğümüz gibi Canny edge dedector’un kalitesi çok daha iyi. Parametre olarak aldığı iki sayı, eşikleri (threshold) belirtir. İkinci argümana düşük eşik değeri (low threshold) ve üçüncü argümana yüksek eşik değeri (high threshold) denir. \n",
    "* Eğer gradient değeri yüksek eşik değerinden fazla ise, güçlü bir kenar olarak işaretlenir. Canny kenar detektörü bu noktadan kenarı takip etmeye başlar ve gradient değeri, düşük eşik değerinin altına düşene kadar süreci devam ettirir"
   ]
  },
  {
   "cell_type": "markdown",
   "metadata": {},
   "source": [
    "daha bitmedi"
   ]
  }
 ],
 "metadata": {
  "kernelspec": {
   "display_name": "Python 3",
   "language": "python",
   "name": "python3"
  },
  "language_info": {
   "codemirror_mode": {
    "name": "ipython",
    "version": 3
   },
   "file_extension": ".py",
   "mimetype": "text/x-python",
   "name": "python",
   "nbconvert_exporter": "python",
   "pygments_lexer": "ipython3",
   "version": "3.12.2"
  }
 },
 "nbformat": 4,
 "nbformat_minor": 2
}
